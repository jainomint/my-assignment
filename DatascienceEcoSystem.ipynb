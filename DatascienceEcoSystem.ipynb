{
 "cells": [
  {
   "cell_type": "markdown",
   "id": "1df8b741",
   "metadata": {},
   "source": [
    "Exercise2<h1>Data Science Tools and Ecosystem<h1>\n"
   ]
  },
  {
   "cell_type": "markdown",
   "id": "900655b2",
   "metadata": {},
   "source": [
    "Exercise3: \n",
    "\n",
    "In this notebook, Data Science tools and ecosystem are summerized.\n",
    "\n",
    "Data science tools are usedfor cleaning, processing, analyzing, visualizing, and modeling data.\n",
    "\n",
    "The term “data ecosystem” collectively refers to all the programming languages, algorithms, applications, and the general infrastructure used to collect, analyze and store data.\n",
    "\n",
    "data science tools are:\n",
    "\n",
    "1. PANDAS: makes data cleaning, manipulation, analisis, and feature engineering seamless in python. it is most uded library by data professionals\n",
    "2. SEABORN: Sean is a poweful data visualization library that is built on top of matplotlib\n",
    "3. SCIKIT-LEARN: is library for machine learning\n",
    "\n",
    "Open source Data science Tools\n",
    "\n",
    "4. Jupyter Notebook\n",
    "5. Pytorch\n",
    "6. MLFlow\n",
    "7. Tableau"
   ]
  },
  {
   "cell_type": "markdown",
   "id": "e311e2cb",
   "metadata": {},
   "source": [
    "Exercise4:\n",
    "\n",
    "Some of the popular languages that Data Science use are:\n",
    "    \n",
    "    1. R programming language\n",
    "    2. SQL\n",
    "    3. Scala\n",
    "    4. Julia\n",
    "    5. Javascript\n",
    "    6. C/C++\n",
    "    7. MATLAB\n",
    "    8. Excel\n"
   ]
  },
  {
   "cell_type": "markdown",
   "id": "88ca8ab2",
   "metadata": {},
   "source": [
    "Ecercise5:\n",
    "\n",
    "Some of the commonly used libraries used by Data Scientists include:\n",
    "    \n",
    "    \n",
    "    1. NumPy\n",
    "    2. SciPy \n",
    "    3. Pandas\n",
    "    4.Matplotlib \n",
    "    5.Keras\n",
    "    6.SciKit-Learn\n",
    "    7.PyTorch\n",
    "    8.Scrapy\n"
   ]
  },
  {
   "cell_type": "markdown",
   "id": "185376eb",
   "metadata": {},
   "source": [
    "Exercise 6:\n",
    "    \n",
    "Create a markdown cell with a table of Data Science tools:\n",
    "\n",
    " | Data science tools | Jupyter notebook | Rstudio | TensorFlow |\n",
    " |------------------- |------------------|---------|------------|"
   ]
  },
  {
   "cell_type": "markdown",
   "id": "e03a9edd",
   "metadata": {},
   "source": [
    "Exercise7:\n",
    "\n",
    "<H3> Below are a few examples of evaluating arithmetic expressions in Python <h3>"
   ]
  },
  {
   "cell_type": "markdown",
   "id": "89aa58b5",
   "metadata": {},
   "source": [
    "Exercise8:"
   ]
  },
  {
   "cell_type": "code",
   "execution_count": 1,
   "id": "fad59f28",
   "metadata": {},
   "outputs": [
    {
     "data": {
      "text/plain": [
       "17"
      ]
     },
     "execution_count": 1,
     "metadata": {},
     "output_type": "execute_result"
    }
   ],
   "source": [
    "(3*4)+5 # This a simple arithmetic expression to mutiply then add integers"
   ]
  },
  {
   "cell_type": "markdown",
   "id": "9c7f552d",
   "metadata": {},
   "source": [
    "Exercise9:"
   ]
  },
  {
   "cell_type": "code",
   "execution_count": 2,
   "id": "f55ba499",
   "metadata": {},
   "outputs": [
    {
     "name": "stdout",
     "output_type": "stream",
     "text": [
      "Enter time in minutes200\n",
      "Hours= 3\n",
      "minutes= 20\n"
     ]
    }
   ],
   "source": [
    "min=int(input(\"Enter time in minutes\"))\n",
    "h=min//60\n",
    "m=min%60\n",
    "print(\"Hours=\",h)\n",
    "print(\"minutes=\",m)"
   ]
  },
  {
   "cell_type": "markdown",
   "id": "6f6cda5d",
   "metadata": {},
   "source": [
    "# Objective\n"
   ]
  },
  {
   "cell_type": "markdown",
   "id": "4f74be16",
   "metadata": {},
   "source": [
    "*  Jupyter Notebook\n",
    "* Pytorch\n",
    "* MLFlow\n",
    "* Tableau\n",
    "* Rstudio"
   ]
  },
  {
   "cell_type": "markdown",
   "id": "7ef38caa",
   "metadata": {},
   "source": [
    "<H2> Author <H2> "
   ]
  },
  {
   "cell_type": "markdown",
   "id": "61065b90",
   "metadata": {},
   "source": [
    "Lakshmi Holla\n",
    "\n",
    "Niveditha Pandith"
   ]
  },
  {
   "cell_type": "code",
   "execution_count": null,
   "id": "625ff901",
   "metadata": {},
   "outputs": [],
   "source": []
  }
 ],
 "metadata": {
  "kernelspec": {
   "display_name": "Python 3 (ipykernel)",
   "language": "python",
   "name": "python3"
  },
  "language_info": {
   "codemirror_mode": {
    "name": "ipython",
    "version": 3
   },
   "file_extension": ".py",
   "mimetype": "text/x-python",
   "name": "python",
   "nbconvert_exporter": "python",
   "pygments_lexer": "ipython3",
   "version": "3.11.4"
  }
 },
 "nbformat": 4,
 "nbformat_minor": 5
}
